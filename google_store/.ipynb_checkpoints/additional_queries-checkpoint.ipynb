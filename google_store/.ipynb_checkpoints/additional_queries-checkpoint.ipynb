{
 "cells": [
  {
   "cell_type": "code",
   "execution_count": 1,
   "metadata": {},
   "outputs": [],
   "source": [
    "import numpy as np \n",
    "import pandas as pd \n",
    "from google.cloud import bigquery\n",
    "from pandas.io import gbq"
   ]
  },
  {
   "cell_type": "code",
   "execution_count": null,
   "metadata": {},
   "outputs": [],
   "source": []
  },
  {
   "cell_type": "code",
   "execution_count": null,
   "metadata": {},
   "outputs": [],
   "source": []
  },
  {
   "cell_type": "code",
   "execution_count": null,
   "metadata": {},
   "outputs": [],
   "source": []
  },
  {
   "cell_type": "code",
   "execution_count": 2,
   "metadata": {},
   "outputs": [
    {
     "name": "stderr",
     "output_type": "stream",
     "text": [
      "Downloading: 100%|██████████| 365/365 [00:00<00:00, 1633.19rows/s]\n"
     ]
    }
   ],
   "source": [
    "#How many visitors went to the store? \n",
    "store_visitors=\"\"\"\n",
    "SELECT \n",
    "date,\n",
    "COUNT(CASE WHEN hits.page.pagePath = \"/store.html\" THEN 1 ELSE 0 END) AS store_visitors\n",
    "FROM `bigquery-public-data.google_analytics_sample.ga_sessions_*`\n",
    ",UNNEST (hits) AS hits\n",
    "WHERE _TABLE_SUFFIX BETWEEN '20160801' AND '20170731'\n",
    "AND  hits.page.pagePath =\"/store.html\"\n",
    "GROUP BY date \n",
    "ORDER BY date \n",
    "\"\"\"\n",
    "store_visitors_ = gbq.read_gbq(store_visitors, project_id = 'my-project-97639')\n",
    "store_visitors_.to_csv('google_store_visitors.csv', index = False)"
   ]
  },
  {
   "cell_type": "code",
   "execution_count": 3,
   "metadata": {},
   "outputs": [
    {
     "name": "stderr",
     "output_type": "stream",
     "text": [
      "Downloading: 100%|██████████| 365/365 [00:00<00:00, 1603.22rows/s]\n"
     ]
    }
   ],
   "source": [
    "returning_visitor=\"\"\"\n",
    "SELECT\n",
    "date,\n",
    "total_visitors,\n",
    "returning_visitors,\n",
    "--All about RVR https://contently.com/2015/08/18/how-loyal-are-your-customers-this-metric-has-the-answer/\n",
    "((SUM(returning_visitors)/SUM(total_visitors))*100) AS RVR\n",
    "FROM(SELECT\n",
    "date,\n",
    "COUNT(CASE WHEN visitNumber > 1 THEN fullvisitorId ELSE NULL END) AS returning_visitors,\n",
    "COUNT(fullvisitorId) AS total_visitors\n",
    "FROM `bigquery-public-data.google_analytics_sample.ga_sessions_*`\n",
    "WHERE _TABLE_SUFFIX BETWEEN '20160801' AND '20170731'\n",
    "GROUP BY date\n",
    "ORDER BY date)\n",
    "GROUP BY date, total_visitors, returning_visitors\n",
    "ORDER BY date\n",
    "\"\"\"\n",
    "returning_visitor_ = gbq.read_gbq(returning_visitor, project_id = 'my-project-97639')\n",
    "returning_visitor_.to_csv('google_returning_visitors.csv', index = False)"
   ]
  },
  {
   "cell_type": "code",
   "execution_count": 5,
   "metadata": {},
   "outputs": [
    {
     "name": "stderr",
     "output_type": "stream",
     "text": [
      "Downloading: 100%|██████████| 20/20 [00:00<00:00, 98.72rows/s]\n"
     ]
    }
   ],
   "source": [
    "bounce_pageviews = \"\"\"\n",
    "WITH bounce_pageviews AS \n",
    "                     (SELECT \n",
    "                     COUNT(fullvisitorId)AS pageviews, \n",
    "                     SUM(totals.bounces) AS bounces,\n",
    "                     hits.page.pagePath AS page\n",
    "                     FROM `bigquery-public-data.google_analytics_sample.ga_sessions_*`\n",
    "                    ,UNNEST(hits) as hits\n",
    "                    WHERE  _table_suffix BETWEEN '20160801'\n",
    "                    AND '20170731'\n",
    "                    AND hits.type = 'PAGE'\n",
    "                    GROUP BY page                        )\n",
    "                                            \n",
    "    SELECT \n",
    "    pageviews, \n",
    "    page,\n",
    "    IFNULL(((bounces / pageviews)*100),0) AS bounce_rate\n",
    "    FROM bounce_pageviews\n",
    "    GROUP BY pageviews, page, bounces\n",
    "    ORDER BY PAGEVIEWS DESC\n",
    "    LIMIT 20\n",
    "    \"\"\"\n",
    "bounce_ = gbq.read_gbq(bounce_pageviews, project_id = 'my-project-97639')\n",
    "bounce_.to_csv('google_bounce_pageviews.csv', index = False)"
   ]
  },
  {
   "cell_type": "code",
   "execution_count": 6,
   "metadata": {},
   "outputs": [
    {
     "name": "stderr",
     "output_type": "stream",
     "text": [
      "Downloading: 100%|██████████| 10/10 [00:00<00:00, 53.14rows/s]\n"
     ]
    }
   ],
   "source": [
    "visited_pages = \"\"\"\n",
    " SELECT\n",
    "COUNT(fullVisitorId) AS users,\n",
    "SUM(visitNumber) AS visit_number,\n",
    "hits.page.pagePath AS pagePath\n",
    "FROM\n",
    "`bigquery-public-data.google_analytics_sample.ga_sessions_*`,\n",
    "UNNEST(hits) as hits\n",
    "WHERE\n",
    "_TABLE_SUFFIX BETWEEN '20160801' AND '20170731'\n",
    "AND\n",
    "--calculating data only when customer hit another page\n",
    "hits.type=\"PAGE\"\n",
    "GROUP BY\n",
    "pagePath\n",
    "ORDER BY visit_number DESC\n",
    "LIMIT 10 \n",
    "\"\"\"\n",
    "visited_pages_ = gbq.read_gbq(visited_pages, project_id = 'my-project-97639')\n",
    "visited_pages_.to_csv('google_visited_pages.csv', index = False)"
   ]
  },
  {
   "cell_type": "code",
   "execution_count": 2,
   "metadata": {},
   "outputs": [
    {
     "name": "stderr",
     "output_type": "stream",
     "text": [
      "Downloading: 100%|██████████| 2723/2723 [00:00<00:00, 5074.63rows/s]\n"
     ]
    }
   ],
   "source": [
    "query_category = \"\"\"\n",
    "  SELECT\n",
    "      CONCAT(fullVisitorId, CAST(visitId AS STRING)) AS unique_session_id,\n",
    "      CASE\n",
    "        WHEN totals.totalTransactionRevenue/1e6 < 30.83 THEN 'Q1'\n",
    "        WHEN totals.totalTransactionRevenue/1e6 BETWEEN 30.83 AND 56.975 THEN 'Q2'\n",
    "        WHEN totals.totalTransactionRevenue/1e6 BETWEEN 56.975 AND 116.96 THEN 'Q3'\n",
    "        WHEN totals.totalTransactionRevenue/1e6 BETWEEN 116.96 AND 246.155 THEN 'Q4'\n",
    "        ELSE 'outlier'\n",
    "      END AS segment,\n",
    "      product.v2ProductCategory AS product_category,\n",
    "      product.v2ProductName AS product_name,\n",
    "      product.productSKU AS product_sku,\n",
    "      (product.productRevenue/1e6)/product.productQuantity AS product_price_valid,\n",
    "      product.productQuantity AS product_quantity,\n",
    "      product.productRevenue/1e6 AS product_revenue\n",
    "  FROM\n",
    "      `bigquery-public-data.google_analytics_sample.ga_sessions_*`\n",
    "      , UNNEST(hits) AS hits\n",
    "      , UNNEST(hits.product) AS product\n",
    "  WHERE\n",
    "      _TABLE_SUFFIX BETWEEN '20160801' AND '20170731'\n",
    "      AND geoNetwork.country = 'United States'\n",
    "      AND totals.totalTransactionRevenue IS NOT NULL\n",
    "      AND productRevenue IS NOT NULL\n",
    "      AND CONCAT(fullVisitorId, CAST(visitId AS STRING)) NOT IN ('19574589762938781001491423580', '19574589762938781001492527922')\n",
    "\"\"\"\n",
    "category = gbq.read_gbq(query_category, project_id = 'my-project-97639')\n",
    "category.to_csv('google_category.csv', index = False)"
   ]
  },
  {
   "cell_type": "code",
   "execution_count": null,
   "metadata": {},
   "outputs": [],
   "source": []
  }
 ],
 "metadata": {
  "kernelspec": {
   "display_name": "Python 3",
   "language": "python",
   "name": "python3"
  },
  "language_info": {
   "codemirror_mode": {
    "name": "ipython",
    "version": 3
   },
   "file_extension": ".py",
   "mimetype": "text/x-python",
   "name": "python",
   "nbconvert_exporter": "python",
   "pygments_lexer": "ipython3",
   "version": "3.7.6"
  }
 },
 "nbformat": 4,
 "nbformat_minor": 4
}

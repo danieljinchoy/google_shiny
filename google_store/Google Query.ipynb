{
 "cells": [
  {
   "cell_type": "markdown",
   "metadata": {},
   "source": [
    "### Import Libraries ###"
   ]
  },
  {
   "cell_type": "code",
   "execution_count": 1,
   "metadata": {},
   "outputs": [],
   "source": [
    "import numpy as np \n",
    "import pandas as pd \n",
    "from google.cloud import bigquery\n",
    "from pandas.io import gbq"
   ]
  },
  {
   "cell_type": "code",
   "execution_count": 45,
   "metadata": {},
   "outputs": [
    {
     "name": "stderr",
     "output_type": "stream",
     "text": [
      "Downloading: 0rows [00:00, ?rows/s]\n"
     ]
    }
   ],
   "source": [
    "# select first couple of columns that are not nested (Nov-16)\n",
    "query_part1_1611 = \"\"\"\n",
    "select \n",
    "visitorId, visitNumber, visitId, visitStartTime, date\n",
    "FROM `bigquery-public-data.google_analytics_sample.ga_sessions_*`\n",
    "WHERE _TABLE_SUFFIX BETWEEN '20160801' AND '20170731'\n",
    "\n",
    "  \"\"\""
   ]
  },
  {
   "cell_type": "code",
   "execution_count": 12,
   "metadata": {},
   "outputs": [
    {
     "name": "stderr",
     "output_type": "stream",
     "text": [
      "Downloading: 100%|██████████| 113972/113972 [00:04<00:00, 27098.44rows/s]\n"
     ]
    }
   ],
   "source": [
    "my_data_part1_1611 = gbq.read_gbq(query_part1_1611, project_id = 'my-project-97639')"
   ]
  },
  {
   "cell_type": "code",
   "execution_count": 14,
   "metadata": {},
   "outputs": [],
   "source": [
    "my_data_part1_1611.to_csv('google_1_1611.csv', index = False)"
   ]
  },
  {
   "cell_type": "code",
   "execution_count": 15,
   "metadata": {},
   "outputs": [],
   "source": [
    "# select first couple of columns that are not nested (Oct-16)\n",
    "query_part1_1610 = \"\"\"\n",
    "select \n",
    "visitorId, visitNumber, visitId, visitStartTime, date\n",
    "FROM `bigquery-public-data.google_analytics_sample.ga_sessions_201610*`\n",
    "\n",
    "\n",
    "  \"\"\""
   ]
  },
  {
   "cell_type": "code",
   "execution_count": 16,
   "metadata": {},
   "outputs": [
    {
     "name": "stderr",
     "output_type": "stream",
     "text": [
      "Downloading: 100%|██████████| 97506/97506 [00:03<00:00, 25151.69rows/s]\n"
     ]
    }
   ],
   "source": [
    "my_data_part1_1610 = gbq.read_gbq(query_part1_1610, project_id = 'my-project-97639')"
   ]
  },
  {
   "cell_type": "code",
   "execution_count": 17,
   "metadata": {},
   "outputs": [],
   "source": [
    "my_data_part1_1610.to_csv('google_1_1610.csv', index = False)"
   ]
  },
  {
   "cell_type": "code",
   "execution_count": 18,
   "metadata": {},
   "outputs": [],
   "source": [
    "# select first couple of columns that are not nested (Dec-16)\n",
    "query_part1_1612 = \"\"\"\n",
    "select \n",
    "visitorId, visitNumber, visitId, visitStartTime, date\n",
    "FROM `bigquery-public-data.google_analytics_sample.ga_sessions_201612*`\n",
    "\n",
    "\n",
    "  \"\"\""
   ]
  },
  {
   "cell_type": "code",
   "execution_count": 19,
   "metadata": {},
   "outputs": [
    {
     "name": "stderr",
     "output_type": "stream",
     "text": [
      "Downloading: 100%|██████████| 79124/79124 [00:02<00:00, 26384.40rows/s]\n"
     ]
    }
   ],
   "source": [
    "my_data_part1_1612 = gbq.read_gbq(query_part1_1612, project_id = 'my-project-97639')"
   ]
  },
  {
   "cell_type": "code",
   "execution_count": 20,
   "metadata": {},
   "outputs": [],
   "source": [
    "my_data_part1_1612.to_csv('google_1_1612.csv', index = False)"
   ]
  },
  {
   "cell_type": "code",
   "execution_count": null,
   "metadata": {},
   "outputs": [],
   "source": []
  },
  {
   "cell_type": "code",
   "execution_count": 24,
   "metadata": {},
   "outputs": [],
   "source": [
    "# Unnest Total Columns (Oct-16)\n",
    "query_totals_1610 = \"\"\"\n",
    "select * from unnest(array(\n",
    "                            SELECT\n",
    "                            totals\n",
    "                            FROM `bigquery-public-data.google_analytics_sample.ga_sessions_*`\n",
    "\n",
    "WHERE _TABLE_SUFFIX BETWEEN '20161001' AND '20161031'\n",
    "                            \n",
    "                           )\n",
    "                    )\n",
    "  \"\"\"\n"
   ]
  },
  {
   "cell_type": "code",
   "execution_count": 25,
   "metadata": {},
   "outputs": [
    {
     "name": "stderr",
     "output_type": "stream",
     "text": [
      "Downloading: 100%|██████████| 97506/97506 [00:06<00:00, 14832.74rows/s]\n"
     ]
    }
   ],
   "source": [
    "my_data_totals_1610 = gbq.read_gbq(query_totals_1610, project_id = 'my-project-97639')"
   ]
  },
  {
   "cell_type": "code",
   "execution_count": 26,
   "metadata": {},
   "outputs": [],
   "source": [
    "my_data_totals_1610.to_csv('google_totals_1610.csv', index = False)"
   ]
  },
  {
   "cell_type": "code",
   "execution_count": 28,
   "metadata": {},
   "outputs": [],
   "source": [
    "# Unnest Total Columns (Nov-16)\n",
    "query_totals_1611 = \"\"\"\n",
    "select * from unnest(array(\n",
    "                            SELECT\n",
    "                            totals\n",
    "                            FROM `bigquery-public-data.google_analytics_sample.ga_sessions_*`\n",
    "\n",
    "WHERE _TABLE_SUFFIX BETWEEN '20161101' AND '20161130'\n",
    "                            \n",
    "                           )\n",
    "                    )\n",
    "  \"\"\"\n"
   ]
  },
  {
   "cell_type": "code",
   "execution_count": 29,
   "metadata": {},
   "outputs": [
    {
     "name": "stderr",
     "output_type": "stream",
     "text": [
      "Downloading: 100%|██████████| 113972/113972 [00:07<00:00, 15288.78rows/s]\n"
     ]
    }
   ],
   "source": [
    "my_data_totals_1611 = gbq.read_gbq(query_totals_1611, project_id = 'my-project-97639')"
   ]
  },
  {
   "cell_type": "code",
   "execution_count": 30,
   "metadata": {},
   "outputs": [],
   "source": [
    "my_data_totals_1611.to_csv('google_totals_1611.csv', index = False)"
   ]
  },
  {
   "cell_type": "code",
   "execution_count": 31,
   "metadata": {},
   "outputs": [],
   "source": [
    "# Unnest Total Columns (Dec-16)\n",
    "query_totals_1612 = \"\"\"\n",
    "select * from unnest(array(\n",
    "                            SELECT\n",
    "                            totals\n",
    "                            FROM `bigquery-public-data.google_analytics_sample.ga_sessions_*`\n",
    "\n",
    "WHERE _TABLE_SUFFIX BETWEEN '20161201' AND '20161231'\n",
    "                            \n",
    "                           )\n",
    "                    )\n",
    "  \"\"\""
   ]
  },
  {
   "cell_type": "code",
   "execution_count": 32,
   "metadata": {},
   "outputs": [
    {
     "name": "stderr",
     "output_type": "stream",
     "text": [
      "Downloading: 100%|██████████| 79124/79124 [00:05<00:00, 13362.00rows/s]\n"
     ]
    }
   ],
   "source": [
    "my_data_totals_1612 = gbq.read_gbq(query_totals_1612, project_id = 'my-project-97639')"
   ]
  },
  {
   "cell_type": "code",
   "execution_count": 33,
   "metadata": {},
   "outputs": [],
   "source": [
    "my_data_totals_1612.to_csv('google_totals_1612.csv', index = False)"
   ]
  },
  {
   "cell_type": "code",
   "execution_count": 38,
   "metadata": {},
   "outputs": [],
   "source": [
    "# Query traffic source (Oct-16)\n",
    "query_trafficSource_1610 = \"\"\"\n",
    "select  referralPath,\tcampaign,\tsource,\tmedium,\tkeyword,\tadContent,\tisTrueDirect, campaignCode\n",
    "        from unnest(array(\n",
    "                            SELECT\n",
    "                            trafficSource\n",
    "                            FROM `bigquery-public-data.google_analytics_sample.ga_sessions_*`\n",
    "WHERE _TABLE_SUFFIX BETWEEN '20161001' AND '20161031'\n",
    "                            \n",
    "                           )\n",
    "                    )\n",
    "  \"\"\""
   ]
  },
  {
   "cell_type": "code",
   "execution_count": 39,
   "metadata": {},
   "outputs": [
    {
     "name": "stderr",
     "output_type": "stream",
     "text": [
      "Downloading: 100%|██████████| 97506/97506 [00:04<00:00, 21626.10rows/s]\n"
     ]
    }
   ],
   "source": [
    "traffic_source1_1610 = gbq.read_gbq(query_trafficSource_1610, project_id = 'my-project-97639')"
   ]
  },
  {
   "cell_type": "code",
   "execution_count": 41,
   "metadata": {},
   "outputs": [],
   "source": [
    "traffic_source1_1610.to_csv('google_traffic_1610.csv', index = False)"
   ]
  },
  {
   "cell_type": "code",
   "execution_count": 40,
   "metadata": {},
   "outputs": [
    {
     "name": "stderr",
     "output_type": "stream",
     "text": [
      "Downloading: 100%|██████████| 113972/113972 [00:05<00:00, 22740.24rows/s]\n"
     ]
    }
   ],
   "source": [
    "# Query traffic source (Nov-16)\n",
    "query_trafficSource_1611 = \"\"\"\n",
    "select  referralPath,\tcampaign,\tsource,\tmedium,\tkeyword,\tadContent,\tisTrueDirect, campaignCode\n",
    "        from unnest(array(\n",
    "                            SELECT\n",
    "                            trafficSource\n",
    "                            FROM `bigquery-public-data.google_analytics_sample.ga_sessions_*`\n",
    "WHERE _TABLE_SUFFIX BETWEEN '20161101' AND '20161130'\n",
    "                            \n",
    "                           )\n",
    "                    )\n",
    "  \"\"\"\n",
    "traffic_source1_1611 = gbq.read_gbq(query_trafficSource_1611, project_id = 'my-project-97639')\n",
    "traffic_source1_1611.to_csv('google_traffic_1611.csv', index = False)"
   ]
  },
  {
   "cell_type": "code",
   "execution_count": 42,
   "metadata": {},
   "outputs": [
    {
     "name": "stderr",
     "output_type": "stream",
     "text": [
      "Downloading: 100%|██████████| 79124/79124 [00:03<00:00, 20804.69rows/s]\n"
     ]
    }
   ],
   "source": [
    "# Query traffic source (Dec-16)\n",
    "query_trafficSource_1612 = \"\"\"\n",
    "select  referralPath,\tcampaign,\tsource,\tmedium,\tkeyword,\tadContent,\tisTrueDirect, campaignCode\n",
    "        from unnest(array(\n",
    "                            SELECT\n",
    "                            trafficSource\n",
    "                            FROM `bigquery-public-data.google_analytics_sample.ga_sessions_*`\n",
    "WHERE _TABLE_SUFFIX BETWEEN '20161201' AND '20161231'\n",
    "                            \n",
    "                           )\n",
    "                    )\n",
    "  \"\"\"\n",
    "traffic_source1_1612 = gbq.read_gbq(query_trafficSource_1612, project_id = 'my-project-97639')\n",
    "traffic_source1_1612.to_csv('google_traffic_1612.csv', index = False)"
   ]
  },
  {
   "cell_type": "code",
   "execution_count": 43,
   "metadata": {},
   "outputs": [
    {
     "name": "stderr",
     "output_type": "stream",
     "text": [
      "Downloading: 100%|██████████| 97506/97506 [00:06<00:00, 14553.69rows/s]\n"
     ]
    }
   ],
   "source": [
    "query_trafficSource_2_1610 = \"\"\"\n",
    "select *\n",
    "from unnest(array(\n",
    "                    select  adwordsClickInfo\n",
    "                            from unnest(array(\n",
    "                                                SELECT\n",
    "                                                trafficSource\n",
    "                                                 FROM `bigquery-public-data.google_analytics_sample.ga_sessions_*`\n",
    "WHERE _TABLE_SUFFIX BETWEEN '20161001' AND '20161031'\n",
    "                                                \n",
    "                                               )\n",
    "                                        )\n",
    "                 )\n",
    "            )\n",
    "  \"\"\"\n",
    "traffic_source2_1610 = gbq.read_gbq(query_trafficSource_2_1610, project_id = 'my-project-97639')\n",
    "traffic_source2_1610.to_csv('google_traffic2_1610.csv', index = False)"
   ]
  },
  {
   "cell_type": "code",
   "execution_count": 46,
   "metadata": {},
   "outputs": [
    {
     "name": "stderr",
     "output_type": "stream",
     "text": [
      "Downloading: 100%|██████████| 113972/113972 [00:06<00:00, 16337.61rows/s]\n"
     ]
    }
   ],
   "source": [
    "query_trafficSource_2_1611 = \"\"\"\n",
    "\n",
    "select *\n",
    "from unnest(array(\n",
    "                    select  adwordsClickInfo\n",
    "                            from unnest(array(\n",
    "                                                SELECT\n",
    "                                                trafficSource\n",
    "                                                 FROM `bigquery-public-data.google_analytics_sample.ga_sessions_*`\n",
    "WHERE _TABLE_SUFFIX BETWEEN '20161101' AND '20161130'\n",
    "                                                \n",
    "                                               )\n",
    "                                        )\n",
    "                 )\n",
    "            )\n",
    "  \"\"\"\n",
    "traffic_source2_1611 = gbq.read_gbq(query_trafficSource_2_1611, project_id = 'my-project-97639')\n",
    "traffic_source2_1611.to_csv('google_traffic2_1611.csv', index = False)"
   ]
  },
  {
   "cell_type": "code",
   "execution_count": 47,
   "metadata": {},
   "outputs": [
    {
     "name": "stderr",
     "output_type": "stream",
     "text": [
      "Downloading: 100%|██████████| 79124/79124 [00:04<00:00, 16308.07rows/s]\n"
     ]
    }
   ],
   "source": [
    "query_trafficSource_2_1612 = \"\"\"\n",
    "\n",
    "select *\n",
    "from unnest(array(\n",
    "                    select  adwordsClickInfo\n",
    "                            from unnest(array(\n",
    "                                                SELECT\n",
    "                                                trafficSource\n",
    "                                                 FROM `bigquery-public-data.google_analytics_sample.ga_sessions_*`\n",
    "WHERE _TABLE_SUFFIX BETWEEN '20161201' AND '20161231'\n",
    "                                                \n",
    "                                               )\n",
    "                                        )\n",
    "                 )\n",
    "            )\n",
    "  \"\"\"\n",
    "traffic_source2_1612 = gbq.read_gbq(query_trafficSource_2_1612, project_id = 'my-project-97639')\n",
    "traffic_source2_1612.to_csv('google_traffic2_1612.csv', index = False)"
   ]
  },
  {
   "cell_type": "code",
   "execution_count": 48,
   "metadata": {},
   "outputs": [
    {
     "name": "stderr",
     "output_type": "stream",
     "text": [
      "Downloading: 100%|██████████| 97506/97506 [00:12<00:00, 7670.28rows/s]\n"
     ]
    }
   ],
   "source": [
    "query_device1610 = \"\"\"\n",
    "select * from unnest(array(\n",
    "                            SELECT\n",
    "                            device\n",
    "                             FROM `bigquery-public-data.google_analytics_sample.ga_sessions_*`\n",
    "WHERE _TABLE_SUFFIX BETWEEN '20161001' AND '20161031'\n",
    "                            \n",
    "                           )\n",
    "                    )\n",
    "  \"\"\"\n",
    "query_device_1610 = gbq.read_gbq(query_device1610, project_id = 'my-project-97639')\n",
    "query_device_1610.to_csv('google_device_1610.csv', index = False)"
   ]
  },
  {
   "cell_type": "code",
   "execution_count": 50,
   "metadata": {},
   "outputs": [
    {
     "name": "stderr",
     "output_type": "stream",
     "text": [
      "Downloading: 100%|██████████| 113972/113972 [00:13<00:00, 8180.45rows/s]\n"
     ]
    }
   ],
   "source": [
    "query_device1611 = \"\"\"\n",
    "select * from unnest(array(\n",
    "                            SELECT\n",
    "                            device\n",
    "                             FROM `bigquery-public-data.google_analytics_sample.ga_sessions_*`\n",
    "WHERE _TABLE_SUFFIX BETWEEN '20161101' AND '20161130'\n",
    "                            \n",
    "                           )\n",
    "                    )\n",
    "  \"\"\"\n",
    "query_device_1611 = gbq.read_gbq(query_device1611, project_id = 'my-project-97639')\n",
    "query_device_1611.to_csv('google_device_1611.csv', index = False)"
   ]
  },
  {
   "cell_type": "code",
   "execution_count": 49,
   "metadata": {},
   "outputs": [
    {
     "name": "stderr",
     "output_type": "stream",
     "text": [
      "Downloading: 100%|██████████| 79124/79124 [00:09<00:00, 8474.26rows/s]\n"
     ]
    }
   ],
   "source": [
    "query_device1612 = \"\"\"\n",
    "select * from unnest(array(\n",
    "                            SELECT\n",
    "                            device\n",
    "                             FROM `bigquery-public-data.google_analytics_sample.ga_sessions_*`\n",
    "WHERE _TABLE_SUFFIX BETWEEN '20161201' AND '20161231'\n",
    "                            \n",
    "                           )\n",
    "                    )\n",
    "  \"\"\"\n",
    "query_device_1612 = gbq.read_gbq(query_device1612, project_id = 'my-project-97639')\n",
    "query_device_1612.to_csv('google_device_1612.csv', index = False)"
   ]
  },
  {
   "cell_type": "code",
   "execution_count": 51,
   "metadata": {},
   "outputs": [
    {
     "name": "stderr",
     "output_type": "stream",
     "text": [
      "Downloading: 100%|██████████| 97506/97506 [00:07<00:00, 13604.33rows/s]\n"
     ]
    }
   ],
   "source": [
    "query_geoNetwork1610 = \"\"\"\n",
    "select * from unnest(array(\n",
    "                            SELECT\n",
    "                            geoNetwork\n",
    "                             FROM `bigquery-public-data.google_analytics_sample.ga_sessions_*`\n",
    "WHERE _TABLE_SUFFIX BETWEEN '20161001' AND '20161031'\n",
    "                            \n",
    "                           )\n",
    "                    )\n",
    "  \"\"\"\n",
    "geoNetwork_1610 = gbq.read_gbq(query_geoNetwork1610, project_id = 'my-project-97639')\n",
    "geoNetwork_1610.to_csv('google_geo_1610.csv', index = False)"
   ]
  },
  {
   "cell_type": "code",
   "execution_count": 52,
   "metadata": {},
   "outputs": [
    {
     "name": "stderr",
     "output_type": "stream",
     "text": [
      "Downloading: 100%|██████████| 113972/113972 [00:08<00:00, 14130.37rows/s]\n"
     ]
    }
   ],
   "source": [
    "query_geoNetwork1611 = \"\"\"\n",
    "select * from unnest(array(\n",
    "                            SELECT\n",
    "                            geoNetwork\n",
    "                             FROM `bigquery-public-data.google_analytics_sample.ga_sessions_*`\n",
    "WHERE _TABLE_SUFFIX BETWEEN '20161101' AND '20161130'\n",
    "                            \n",
    "                           )\n",
    "                    )\n",
    "  \"\"\"\n",
    "geoNetwork_1611 = gbq.read_gbq(query_geoNetwork1611, project_id = 'my-project-97639')\n",
    "geoNetwork_1611.to_csv('google_geo_1611.csv', index = False)"
   ]
  },
  {
   "cell_type": "code",
   "execution_count": 53,
   "metadata": {},
   "outputs": [
    {
     "name": "stderr",
     "output_type": "stream",
     "text": [
      "Downloading: 100%|██████████| 79124/79124 [00:05<00:00, 13525.45rows/s]\n"
     ]
    }
   ],
   "source": [
    "query_geoNetwork1612 = \"\"\"\n",
    "select * from unnest(array(\n",
    "                            SELECT\n",
    "                            geoNetwork\n",
    "                             FROM `bigquery-public-data.google_analytics_sample.ga_sessions_*`\n",
    "WHERE _TABLE_SUFFIX BETWEEN '20161201' AND '20161231'\n",
    "                            \n",
    "                           )\n",
    "                    )\n",
    "  \"\"\"\n",
    "geoNetwork_1612 = gbq.read_gbq(query_geoNetwork1612, project_id = 'my-project-97639')\n",
    "geoNetwork_1612.to_csv('google_geo_1612.csv', index = False)"
   ]
  },
  {
   "cell_type": "code",
   "execution_count": 54,
   "metadata": {},
   "outputs": [
    {
     "name": "stderr",
     "output_type": "stream",
     "text": [
      "Downloading: 100%|██████████| 97506/97506 [07:13<00:00, 225.07rows/s]\n"
     ]
    }
   ],
   "source": [
    "query_hits1610 = \"\"\"\n",
    "select * from unnest(array(\n",
    "                            SELECT\n",
    "                            STRUCT(hits)\n",
    "                            FROM `bigquery-public-data.google_analytics_sample.ga_sessions_*`\n",
    "WHERE _TABLE_SUFFIX BETWEEN '20161001' AND '20161031'\n",
    "                           )\n",
    "                    )\n",
    " \"\"\"\n",
    "hits_1610 = gbq.read_gbq(query_hits1610, project_id = 'my-project-97639')\n",
    "hits_1610.to_csv('google_hits_1610.csv', index = False)"
   ]
  },
  {
   "cell_type": "code",
   "execution_count": 56,
   "metadata": {},
   "outputs": [
    {
     "name": "stderr",
     "output_type": "stream",
     "text": [
      "Downloading: 100%|██████████| 113972/113972 [07:31<00:00, 252.47rows/s]\n"
     ]
    }
   ],
   "source": [
    "query_hits1611 = \"\"\"\n",
    "select * from unnest(array(\n",
    "                            SELECT\n",
    "                            STRUCT(hits)\n",
    "                            FROM `bigquery-public-data.google_analytics_sample.ga_sessions_*`\n",
    "WHERE _TABLE_SUFFIX BETWEEN '20161101' AND '20161130'\n",
    "                           )\n",
    "                    )\n",
    " \"\"\"\n",
    "hits_1611 = gbq.read_gbq(query_hits1611, project_id = 'my-project-97639')\n",
    "hits_1611.to_csv('google_hits_1611.csv', index = False)"
   ]
  },
  {
   "cell_type": "code",
   "execution_count": 57,
   "metadata": {},
   "outputs": [
    {
     "name": "stderr",
     "output_type": "stream",
     "text": [
      "Downloading: 100%|██████████| 79124/79124 [07:21<00:00, 179.40rows/s]\n"
     ]
    }
   ],
   "source": [
    "query_hits1612 = \"\"\"\n",
    "select * from unnest(array(\n",
    "                            SELECT\n",
    "                            STRUCT(hits)\n",
    "                            FROM `bigquery-public-data.google_analytics_sample.ga_sessions_*`\n",
    "WHERE _TABLE_SUFFIX BETWEEN '20161201' AND '20161231'\n",
    "                           )\n",
    "                    )\n",
    " \"\"\"\n",
    "hits_1612 = gbq.read_gbq(query_hits1612, project_id = 'my-project-97639')\n",
    "hits_1612.to_csv('google_hits_1612.csv', index = False)"
   ]
  },
  {
   "cell_type": "code",
   "execution_count": 64,
   "metadata": {},
   "outputs": [
    {
     "name": "stderr",
     "output_type": "stream",
     "text": [
      "Downloading: 100%|██████████| 97506/97506 [00:02<00:00, 37348.76rows/s]\n"
     ]
    }
   ],
   "source": [
    "query_part2_1610 = \"\"\"\n",
    "select \n",
    "fullVisitorId, userId, channelGrouping, socialEngagementType\n",
    "FROM `bigquery-public-data.google_analytics_sample.ga_sessions_201610*`\n",
    "\n",
    "\n",
    "  \"\"\"\n",
    "query_1610_2 = gbq.read_gbq(query_part2_1610, project_id = 'my-project-97639')\n",
    "query_1610_2.to_csv('google_2_1610.csv', index = False)"
   ]
  },
  {
   "cell_type": "code",
   "execution_count": 65,
   "metadata": {},
   "outputs": [
    {
     "name": "stderr",
     "output_type": "stream",
     "text": [
      "Downloading: 100%|██████████| 113972/113972 [00:03<00:00, 32911.62rows/s]\n"
     ]
    }
   ],
   "source": [
    "query_part2_1611 = \"\"\"\n",
    "select \n",
    "fullVisitorId, userId, channelGrouping, socialEngagementType\n",
    "FROM `bigquery-public-data.google_analytics_sample.ga_sessions_201611*`\n",
    "\n",
    "\n",
    "  \"\"\"\n",
    "query_1611_2 = gbq.read_gbq(query_part2_1611, project_id = 'my-project-97639')\n",
    "query_1611_2.to_csv('google_2_1611.csv', index = False)"
   ]
  },
  {
   "cell_type": "code",
   "execution_count": null,
   "metadata": {},
   "outputs": [
    {
     "name": "stderr",
     "output_type": "stream",
     "text": [
      "Downloading: 100%|██████████| 79124/79124 [00:02<00:00, 33166.70rows/s]\n"
     ]
    }
   ],
   "source": [
    "query_part2_1612 = \"\"\"\n",
    "select \n",
    "fullVisitorId, userId, channelGrouping, socialEngagementType\n",
    "FROM `bigquery-public-data.google_analytics_sample.ga_sessions_201612*`\n",
    "\n",
    "\n",
    "  \"\"\"\n",
    "query_1612_2 = gbq.read_gbq(query_part2_1612, project_id = 'my-project-97639')\n",
    "query_1612_2.to_csv('google_2_1612.csv', index = False)"
   ]
  },
  {
   "cell_type": "code",
   "execution_count": null,
   "metadata": {},
   "outputs": [],
   "source": [
    "## New Start ##"
   ]
  },
  {
   "cell_type": "code",
   "execution_count": 3,
   "metadata": {},
   "outputs": [
    {
     "name": "stderr",
     "output_type": "stream",
     "text": [
      "Downloading: 100%|██████████| 901097/901097 [00:28<00:00, 31189.71rows/s]\n"
     ]
    }
   ],
   "source": [
    "query_part1 = \"\"\"\n",
    "select \n",
    "visitorId, visitNumber, visitId, visitStartTime, date\n",
    "FROM `bigquery-public-data.google_analytics_sample.ga_sessions_*`\n",
    "WHERE _TABLE_SUFFIX BETWEEN '20160801' AND '20170731'\n",
    "\n",
    "  \"\"\"\n",
    "query_part1 = gbq.read_gbq(query_part1, project_id = 'my-project-97639')\n",
    "query_part1.to_csv('google_part1.csv', index = False)"
   ]
  },
  {
   "cell_type": "code",
   "execution_count": 4,
   "metadata": {},
   "outputs": [
    {
     "name": "stderr",
     "output_type": "stream",
     "text": [
      "Downloading: 100%|██████████| 901097/901097 [00:59<00:00, 15208.20rows/s]\n"
     ]
    }
   ],
   "source": [
    "query_totals = \"\"\"\n",
    "select * from unnest(array(\n",
    "                            SELECT\n",
    "                            totals\n",
    "                            FROM `bigquery-public-data.google_analytics_sample.ga_sessions_*`\n",
    "\n",
    "WHERE _TABLE_SUFFIX BETWEEN '20160801' AND '20170731'\n",
    "                            \n",
    "                           )\n",
    "                    )\n",
    "  \"\"\"\n",
    "query_totals = gbq.read_gbq(query_totals, project_id = 'my-project-97639')\n",
    "query_totals.to_csv('google_totals.csv', index = False)"
   ]
  },
  {
   "cell_type": "code",
   "execution_count": 5,
   "metadata": {},
   "outputs": [
    {
     "name": "stderr",
     "output_type": "stream",
     "text": [
      "Downloading: 100%|██████████| 901097/901097 [00:40<00:00, 22255.53rows/s]\n"
     ]
    }
   ],
   "source": [
    "query_trafficSource = \"\"\"\n",
    "select  referralPath,\tcampaign,\tsource,\tmedium,\tkeyword,\tadContent,\tisTrueDirect, campaignCode\n",
    "        from unnest(array(\n",
    "                            SELECT\n",
    "                            trafficSource\n",
    "                            FROM `bigquery-public-data.google_analytics_sample.ga_sessions_*`\n",
    "WHERE _TABLE_SUFFIX BETWEEN '20160801' AND '20170731'\n",
    "                            \n",
    "                           )\n",
    "                    )\n",
    "  \"\"\"\n",
    "query_trafficSource_ = gbq.read_gbq(query_trafficSource, project_id = 'my-project-97639')\n",
    "query_trafficSource_.to_csv('google_traffic.csv', index = False)"
   ]
  },
  {
   "cell_type": "code",
   "execution_count": 6,
   "metadata": {},
   "outputs": [
    {
     "name": "stderr",
     "output_type": "stream",
     "text": [
      "Downloading: 100%|██████████| 901097/901097 [00:52<00:00, 17029.71rows/s]\n"
     ]
    }
   ],
   "source": [
    "query_trafficSource_2 = \"\"\"\n",
    "select *\n",
    "from unnest(array(\n",
    "                    select  adwordsClickInfo\n",
    "                            from unnest(array(\n",
    "                                                SELECT\n",
    "                                                trafficSource\n",
    "                                                 FROM `bigquery-public-data.google_analytics_sample.ga_sessions_*`\n",
    "WHERE _TABLE_SUFFIX BETWEEN '20160801' AND '20170731'\n",
    "                                                \n",
    "                                               )\n",
    "                                        )\n",
    "                 )\n",
    "            )\n",
    "  \"\"\"\n",
    "query_trafficSource_2_ = gbq.read_gbq(query_trafficSource_2, project_id = 'my-project-97639')\n",
    "query_trafficSource_2_.to_csv('google_traffic2.csv', index = False)"
   ]
  },
  {
   "cell_type": "code",
   "execution_count": 7,
   "metadata": {},
   "outputs": [
    {
     "name": "stderr",
     "output_type": "stream",
     "text": [
      "Downloading: 100%|██████████| 901097/901097 [01:38<00:00, 9122.93rows/s]\n"
     ]
    }
   ],
   "source": [
    "query_device = \"\"\"\n",
    "select * from unnest(array(\n",
    "                            SELECT\n",
    "                            device\n",
    "                             FROM `bigquery-public-data.google_analytics_sample.ga_sessions_*`\n",
    "WHERE _TABLE_SUFFIX BETWEEN '20160801' AND '20170731'\n",
    "                            \n",
    "                           )\n",
    "                    )\n",
    "  \"\"\"\n",
    "query_device_ = gbq.read_gbq(query_device, project_id = 'my-project-97639')\n",
    "query_device_.to_csv('google_device.csv', index = False)"
   ]
  },
  {
   "cell_type": "code",
   "execution_count": 8,
   "metadata": {},
   "outputs": [
    {
     "name": "stderr",
     "output_type": "stream",
     "text": [
      "Downloading: 100%|██████████| 901097/901097 [01:17<00:00, 11623.75rows/s]\n"
     ]
    }
   ],
   "source": [
    "query_geo = \"\"\"\n",
    "select * from unnest(array(\n",
    "                            SELECT\n",
    "                            geoNetwork\n",
    "                             FROM `bigquery-public-data.google_analytics_sample.ga_sessions_*`\n",
    "WHERE _TABLE_SUFFIX BETWEEN '20160801' AND '20170731'\n",
    "                            \n",
    "                           )\n",
    "                    )\n",
    "  \"\"\"\n",
    "query_geo_ = gbq.read_gbq(query_geo, project_id = 'my-project-97639')\n",
    "query_geo_.to_csv('google_geo.csv', index = False)"
   ]
  },
  {
   "cell_type": "code",
   "execution_count": 9,
   "metadata": {},
   "outputs": [
    {
     "name": "stderr",
     "output_type": "stream",
     "text": [
      "Downloading: 100%|██████████| 901097/901097 [1:38:23<00:00, 152.63rows/s] \n"
     ]
    }
   ],
   "source": [
    "query_hits = \"\"\"\n",
    "select * from unnest(array(\n",
    "                            SELECT\n",
    "                            STRUCT(hits)\n",
    "                            FROM `bigquery-public-data.google_analytics_sample.ga_sessions_*`\n",
    "WHERE _TABLE_SUFFIX BETWEEN '20160801' AND '20170731'\n",
    "                           )\n",
    "                    )\n",
    " \"\"\"\n",
    "hits_ = gbq.read_gbq(query_hits, project_id = 'my-project-97639')\n",
    "hits_.to_csv('google_hits.csv', index = False)"
   ]
  },
  {
   "cell_type": "code",
   "execution_count": 14,
   "metadata": {},
   "outputs": [
    {
     "name": "stderr",
     "output_type": "stream",
     "text": [
      "Downloading: 100%|██████████| 901097/901097 [00:29<00:00, 30572.76rows/s]\n"
     ]
    }
   ],
   "source": [
    "query_part2 = \"\"\"\n",
    "select \n",
    "fullVisitorId, userId, channelGrouping, socialEngagementType\n",
    "FROM `bigquery-public-data.google_analytics_sample.ga_sessions_*`\n",
    "WHERE _TABLE_SUFFIX BETWEEN '20160801' AND '20170731'\n",
    "\n",
    "  \"\"\"\n",
    "query_part2_ = gbq.read_gbq(query_part2, project_id = 'my-project-97639')\n",
    "query_part2_.to_csv('google_2.csv', index = False)"
   ]
  },
  {
   "cell_type": "code",
   "execution_count": 2,
   "metadata": {},
   "outputs": [],
   "source": [
    "hits_df = pd.read_csv('google_hits.csv', header = 0)"
   ]
  },
  {
   "cell_type": "code",
   "execution_count": 3,
   "metadata": {},
   "outputs": [
    {
     "name": "stdout",
     "output_type": "stream",
     "text": [
      "<class 'pandas.core.frame.DataFrame'>\n",
      "RangeIndex: 901097 entries, 0 to 901096\n",
      "Data columns (total 1 columns):\n",
      " #   Column  Non-Null Count   Dtype \n",
      "---  ------  --------------   ----- \n",
      " 0   hits    901097 non-null  object\n",
      "dtypes: object(1)\n",
      "memory usage: 6.9+ MB\n"
     ]
    }
   ],
   "source": [
    "hits_df.info()"
   ]
  },
  {
   "cell_type": "code",
   "execution_count": 4,
   "metadata": {},
   "outputs": [
    {
     "name": "stderr",
     "output_type": "stream",
     "text": [
      "Downloading: 100%|██████████| 97506/97506 [07:31<00:00, 215.85rows/s]\n"
     ]
    }
   ],
   "source": [
    "query_hits1610 = \"\"\"\n",
    "select * from unnest(array(\n",
    "                            SELECT\n",
    "                            STRUCT(hits)\n",
    "                            FROM `bigquery-public-data.google_analytics_sample.ga_sessions_*`\n",
    "WHERE _TABLE_SUFFIX BETWEEN '20161001' AND '20161031'\n",
    "                           )\n",
    "                    )\n",
    " \"\"\"\n",
    "hits_1610 = gbq.read_gbq(query_hits1610, project_id = 'my-project-97639')\n",
    "hits_1610.to_csv('google_hits_1610.csv', index = False)"
   ]
  },
  {
   "cell_type": "code",
   "execution_count": 5,
   "metadata": {},
   "outputs": [
    {
     "name": "stdout",
     "output_type": "stream",
     "text": [
      "<class 'pandas.core.frame.DataFrame'>\n",
      "RangeIndex: 97506 entries, 0 to 97505\n",
      "Data columns (total 1 columns):\n",
      " #   Column  Non-Null Count  Dtype \n",
      "---  ------  --------------  ----- \n",
      " 0   hits    97506 non-null  object\n",
      "dtypes: object(1)\n",
      "memory usage: 761.9+ KB\n"
     ]
    }
   ],
   "source": [
    "hits_1610.info()"
   ]
  },
  {
   "cell_type": "code",
   "execution_count": 10,
   "metadata": {},
   "outputs": [
    {
     "name": "stderr",
     "output_type": "stream",
     "text": [
      "Downloading: 100%|██████████| 1280/1280 [00:00<00:00, 5400.18rows/s]\n"
     ]
    }
   ],
   "source": [
    "# QUERYING HITS - determine most popular landing point on the website\n",
    "\n",
    "query_hits1 = \"\"\"\n",
    "        SELECT hits.page.pagePath as path,\n",
    "            COUNT(hits.page.pagePath) as counts\n",
    "        FROM `bigquery-public-data.google_analytics_sample.ga_sessions_*`, \n",
    "            UNNEST(hits) as hits\n",
    "        WHERE _TABLE_SUFFIX BETWEEN '20160801' AND '20170731' AND hits.type=\"PAGE\" and hits.hitNumber=1\n",
    "        GROUP BY path\n",
    "        ORDER BY counts DESC\n",
    "        \"\"\"\n",
    "hits_1 = gbq.read_gbq(query_hits1, project_id = 'my-project-97639')\n",
    "hits_1.to_csv('google_hits_1.csv', index = False)"
   ]
  },
  {
   "cell_type": "code",
   "execution_count": 12,
   "metadata": {},
   "outputs": [
    {
     "name": "stderr",
     "output_type": "stream",
     "text": [
      "Downloading: 100%|██████████| 13/13 [00:00<00:00, 77.46rows/s]\n"
     ]
    }
   ],
   "source": [
    "query_hits2 = \"\"\"\n",
    "        SELECT hits.page.searchKeyword as keyword,\n",
    "            COUNT(hits.page.searchKeyword) as counts\n",
    "        FROM `bigquery-public-data.google_analytics_sample.ga_sessions_*`, \n",
    "            UNNEST(hits) as hits\n",
    "        WHERE _TABLE_SUFFIX BETWEEN '20160801' AND '20170731' AND hits.hitNumber=1\n",
    "        GROUP BY keyword\n",
    "        ORDER BY counts DESC\n",
    "        \"\"\"\n",
    "hits_2 = gbq.read_gbq(query_hits2, project_id = 'my-project-97639')\n",
    "hits_2.to_csv('google_hits_2.csv', index = False)"
   ]
  },
  {
   "cell_type": "code",
   "execution_count": null,
   "metadata": {},
   "outputs": [],
   "source": []
  }
 ],
 "metadata": {
  "kernelspec": {
   "display_name": "Python 3",
   "language": "python",
   "name": "python3"
  },
  "language_info": {
   "codemirror_mode": {
    "name": "ipython",
    "version": 3
   },
   "file_extension": ".py",
   "mimetype": "text/x-python",
   "name": "python",
   "nbconvert_exporter": "python",
   "pygments_lexer": "ipython3",
   "version": "3.7.6"
  }
 },
 "nbformat": 4,
 "nbformat_minor": 4
}
